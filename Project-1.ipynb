{
 "cells": [
  {
   "cell_type": "code",
   "execution_count": 15,
   "id": "a35983db",
   "metadata": {},
   "outputs": [
    {
     "name": "stdout",
     "output_type": "stream",
     "text": [
      "\n",
      "            ***** Welcome To Eduonix ATM Machine Simulator *****\n",
      "          \n",
      "Enter your pin: 2244\n",
      "\n",
      "             Options you can Exercise are:\n",
      "             1 Balance\n",
      "             2 Withdraw\n",
      "             3 Deposit\n",
      "             4 Exit\n",
      "         \n",
      "Select Your Transaction from the above options: 2\n",
      "Enter withdrawal Amount: 5000\n",
      "please collect the cash and remove the card from the machine\n",
      "Your available balance is 15000\n"
     ]
    },
    {
     "ename": "NameError",
     "evalue": "name 'time' is not defined",
     "output_type": "error",
     "traceback": [
      "\u001b[1;31m---------------------------------------------------------------------------\u001b[0m",
      "\u001b[1;31mNameError\u001b[0m                                 Traceback (most recent call last)",
      "Cell \u001b[1;32mIn[15], line 50\u001b[0m\n\u001b[0;32m     45\u001b[0m     \u001b[38;5;28;01mreturn\u001b[39;00m    \n\u001b[0;32m     48\u001b[0m \u001b[38;5;28;01mif\u001b[39;00m \u001b[38;5;18m__name__\u001b[39m \u001b[38;5;241m==\u001b[39m \u001b[38;5;124m\"\u001b[39m\u001b[38;5;124m__main__\u001b[39m\u001b[38;5;124m\"\u001b[39m:\n\u001b[1;32m---> 50\u001b[0m     atm_simulation()\n",
      "Cell \u001b[1;32mIn[15], line 41\u001b[0m, in \u001b[0;36matm_simulation\u001b[1;34m()\u001b[0m\n\u001b[0;32m     38\u001b[0m     exit()\n\u001b[0;32m     40\u001b[0m \u001b[38;5;28;01melse\u001b[39;00m:\n\u001b[1;32m---> 41\u001b[0m     time\u001b[38;5;241m.\u001b[39msleep(\u001b[38;5;241m10\u001b[39m)\n\u001b[0;32m     42\u001b[0m     \u001b[38;5;28mprint\u001b[39m(\u001b[38;5;124m'\u001b[39m\u001b[38;5;124mNo Selected Transaction\u001b[39m\u001b[38;5;124m'\u001b[39m)\n\u001b[0;32m     43\u001b[0m     exit()\n",
      "\u001b[1;31mNameError\u001b[0m: name 'time' is not defined"
     ]
    }
   ],
   "source": [
    "def atm_simulation():\n",
    "    \n",
    "    balance=20000\n",
    "    \n",
    "    print('''\n",
    "            ***** Welcome To Eduonix ATM Machine Simulator *****\n",
    "          ''')\n",
    "    pin=int(input('Enter your pin: '))\n",
    "    print('''\n",
    "             Options you can Exercise are:\n",
    "             1 Balance\n",
    "             2 Withdraw\n",
    "             3 Deposit\n",
    "             4 Exit\n",
    "         ''')\n",
    "    choose=int(input('Select Your Transaction from the above options: '))\n",
    "    if choose==1:\n",
    "        print(f'available A/C Balance is {balance}')\n",
    "        \n",
    "    elif choose==2:\n",
    "        Withdraw=int(input('Enter withdrawal Amount: '))\n",
    "        \n",
    "    if Withdraw<=balance:\n",
    "        balance-=Withdraw\n",
    "        print('please collect the cash and remove the card from the machine')\n",
    "        print(f'Your available balance is {balance}')\n",
    "        \n",
    "    else:\n",
    "        print('Insufficient Balance, entered amount is greater then the available balance ')\n",
    "        \n",
    "    if choose==3:\n",
    "        Amount=int(input('Enter the Deposit Amount: '))\n",
    "        balance+=Amount\n",
    "        print(f'New Balance is {balance}')\n",
    "        \n",
    "    elif choose==4:\n",
    "        print('Thank you for using Eduonix ATM, now you will be exited from the ATM Machine')\n",
    "        exit()\n",
    "        \n",
    "    else:\n",
    "        time.sleep(10)\n",
    "        print('No Selected Transaction')\n",
    "        exit()\n",
    "                \n",
    "    return    \n",
    "        \n",
    "        \n",
    "if __name__ == \"__main__\":\n",
    "    \n",
    "    atm_simulation()"
   ]
  },
  {
   "cell_type": "code",
   "execution_count": null,
   "id": "67cbd730",
   "metadata": {},
   "outputs": [],
   "source": []
  }
 ],
 "metadata": {
  "kernelspec": {
   "display_name": "Python 3 (ipykernel)",
   "language": "python",
   "name": "python3"
  },
  "language_info": {
   "codemirror_mode": {
    "name": "ipython",
    "version": 3
   },
   "file_extension": ".py",
   "mimetype": "text/x-python",
   "name": "python",
   "nbconvert_exporter": "python",
   "pygments_lexer": "ipython3",
   "version": "3.11.4"
  }
 },
 "nbformat": 4,
 "nbformat_minor": 5
}
