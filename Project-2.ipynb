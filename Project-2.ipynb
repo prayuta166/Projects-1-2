{
 "cells": [
  {
   "cell_type": "markdown",
   "id": "e8013347",
   "metadata": {},
   "source": [
    "Servival Age Duration Calculator :"
   ]
  },
  {
   "cell_type": "code",
   "execution_count": 1,
   "id": "c47fdff4",
   "metadata": {},
   "outputs": [
    {
     "name": "stdout",
     "output_type": "stream",
     "text": [
      "Enter your D.O.B.in this format 'Year-month-day': 2001-06-16\n",
      "['2001', '06', '16']\n",
      "you are 22 years old.\n",
      "264 months\n",
      "1144 weeks\n",
      "8030 days\n",
      "192720 hours\n",
      "11563200 minutes\n",
      "693792000 seconds\n"
     ]
    }
   ],
   "source": [
    "import datetime\n",
    "\n",
    "def cal_age(year,month,day):\n",
    "    today = datetime.date.today()\n",
    "    dob = datetime.date(year,month,day)\n",
    "    age = int((today-dob).days/365)\n",
    "    return age\n",
    "\n",
    "user_dob = input(\"Enter your D.O.B.in this format 'Year-month-day': \")\n",
    "\n",
    "dob = user_dob.split('-')\n",
    "\n",
    "print(dob)\n",
    "year,month,day = int(dob[0]),int(dob[1]),int(dob[2])\n",
    "your_age = cal_age(year,month,day)\n",
    "print(f\"you are {your_age} years old.\")\n",
    "print(12*your_age, 'months')\n",
    "print(52*your_age, 'weeks')\n",
    "print(365*your_age, 'days')\n",
    "print(24*365*your_age, 'hours')\n",
    "print(60*24*365*your_age, 'minutes')\n",
    "print(60*60*24*365*your_age, 'seconds')"
   ]
  },
  {
   "cell_type": "code",
   "execution_count": null,
   "id": "a9e69b99",
   "metadata": {},
   "outputs": [],
   "source": []
  }
 ],
 "metadata": {
  "kernelspec": {
   "display_name": "Python 3 (ipykernel)",
   "language": "python",
   "name": "python3"
  },
  "language_info": {
   "codemirror_mode": {
    "name": "ipython",
    "version": 3
   },
   "file_extension": ".py",
   "mimetype": "text/x-python",
   "name": "python",
   "nbconvert_exporter": "python",
   "pygments_lexer": "ipython3",
   "version": "3.11.4"
  }
 },
 "nbformat": 4,
 "nbformat_minor": 5
}
